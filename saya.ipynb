{
 "cells": [
  {
   "cell_type": "markdown",
   "id": "f8d6165e-82b7-4919-85a9-629986e87912",
   "metadata": {},
   "source": [
    "<center><img src=\"https://image.pngaaa.com/137/619137-middle.png\" width=\"200\"></center>\n",
    "<br>\n",
    "<ol>\n",
    "    abcd\n",
    "</ol>"
   ]
  },
  {
   "cell_type": "code",
   "execution_count": 3,
   "id": "53300784-f308-4231-a607-b57afdcba51c",
   "metadata": {},
   "outputs": [
    {
     "name": "stdout",
     "output_type": "stream",
     "text": [
      "python is so ez\n",
      "5\n",
      "sekarang hari jumat\n",
      "deklarasikan variable \"A\"\n",
      "15\n",
      "10\n"
     ]
    },
    {
     "data": {
      "text/plain": [
       "105"
      ]
     },
     "execution_count": 3,
     "metadata": {},
     "output_type": "execute_result"
    }
   ],
   "source": [
    "print('python is so ez')\n",
    "data = 5\n",
    "data2 = \"10\"\n",
    "print(data)\n",
    "print('sekarang hari jumat')\n",
    "print('deklarasikan variable \"A\"')\n",
    "print(data + int(data2)) \n",
    "print(data2)\n",
    "data2\n",
    "data + 100"
   ]
  }
 ],
 "metadata": {
  "kernelspec": {
   "display_name": "Python 3 (ipykernel)",
   "language": "python",
   "name": "python3"
  },
  "language_info": {
   "codemirror_mode": {
    "name": "ipython",
    "version": 3
   },
   "file_extension": ".py",
   "mimetype": "text/x-python",
   "name": "python",
   "nbconvert_exporter": "python",
   "pygments_lexer": "ipython3",
   "version": "3.9.12"
  }
 },
 "nbformat": 4,
 "nbformat_minor": 5
}
